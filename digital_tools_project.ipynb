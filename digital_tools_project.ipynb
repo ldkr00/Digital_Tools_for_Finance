{
 "cells": [
  {
   "cell_type": "markdown",
   "metadata": {},
   "source": [
    "## Is the Swiss franc a safe haven for US investors during recessions?\n",
    "\n",
    "We focus on the recessions of the last 40 years namely:\n",
    "1. July 1981- November 1982\n",
    "2. July 1990 - March 1991\n",
    "3. March 2001 - November 2001\n",
    "4. December 2007 - June 2009\n",
    "5. February 2020 - today. \n",
    "\n",
    "Using the S&P 500 returns over these periods and the exchange rate USD/CHF, we run an OLS regression to investigate wether there is a significant correlation."
   ]
  },
  {
   "cell_type": "markdown",
   "metadata": {},
   "source": [
    "Load relevant libraries to be used throughout:\n",
    "- **datetime**: for date handling and manipulation\n",
    "- **pandas**: to easily work with the data\n",
    "- **yfinance**: to obtain historical stock price data\n",
    "- **math**: to use mathematical functions (e.g. ```log(...)```)"
   ]
  },
  {
   "cell_type": "code",
   "execution_count": 29,
   "metadata": {},
   "outputs": [],
   "source": [
    "from datetime import datetime\n",
    "import pandas as pd\n",
    "import yfinance\n",
    "import math"
   ]
  },
  {
   "cell_type": "markdown",
   "metadata": {},
   "source": [
    "Through Yahoo! Finance API \"wrapper\" (yfinance) we create a function to obtain historical data of an asset price at close and return it as a pandas dataframe object."
   ]
  },
  {
   "cell_type": "code",
   "execution_count": 2,
   "metadata": {},
   "outputs": [],
   "source": [
    "\"\"\"\n",
    "   Returns historical data of the closing price of ticker between start and end.\n",
    "   If not passed in, start is set to 01/01/1900 and end the date of today.\n",
    "   Another optional argument is the frequency which is set to 1 day by default.\n",
    "\n",
    "   :param string ticker: ticker of the asset which must match the one in yahoo finance\n",
    "   :param string start: start date of the historical data to be retrived\n",
    "   :param string end: end date of the historical data to be retrived\n",
    "   :param string frequency: the epoch between each data point\n",
    "   :return: historical price at close of ticker between start and end\n",
    "   :rtype: pandas dataframe\n",
    "\"\"\"\n",
    "def get_historical_data(ticker, start_date=\"1900-01-01\", end_date=datetime.today().strftime(\"%Y-%m-%d\"), frequency=\"1d\"):\n",
    "    if start_date > end_date:\n",
    "        raise Exception(\"start date cannot be before end date\")\n",
    "    asset = yfinance.Ticker(ticker)\n",
    "    stock_history = asset.history(period=\"max\", interval=frequency)\n",
    "    stock_history['Date'] = stock_history.index.strftime(\"%Y-%m-%d\")\n",
    "    stock_history.reset_index(drop=True, inplace=True)\n",
    "    filtered_data = stock_history.loc[(stock_history[\"Date\"] >= start_date) & (\n",
    "        stock_history[\"Date\"] <= end_date)][[\"Date\", \"Close\"]]\n",
    "\n",
    "    return filtered_data"
   ]
  },
  {
   "cell_type": "markdown",
   "metadata": {},
   "source": [
    "In theory, we could make use of the function ```get_historical_data(...)``` to obtain historical rates for the pair USD/CHF. However, the earliest data point starts in 2003 which would not be enough to analyze the first three recessions. Therefore, we load an excel file to a pandas dataframe with the historical rates of the pair considered. The data was retrieved from Bloomberg."
   ]
  },
  {
   "cell_type": "code",
   "execution_count": 13,
   "metadata": {},
   "outputs": [],
   "source": [
    "\"\"\"\n",
    "   Returns historical data of the closing price of the pair USD/CHF between start and end.\n",
    "   If not passed in, start is set to 01/01/1900 and end the date of today.\n",
    "\n",
    "   :param string start: start date of the historical data to be retrived\n",
    "   :param string end: end date of the historical data to be retrived\n",
    "   :return: historical price at close of ticker between start and end\n",
    "   :rtype: pandas dataframe\n",
    "\"\"\"\n",
    "def load_USDCHF_historical_data(start_date=\"1900-01-01\", end_date=datetime.today().strftime(\"%Y-%m-%d\")):\n",
    "    if start_date > end_date:\n",
    "        raise Exception(\"start date cannot be before end date\")\n",
    "    pair_data = pd.read_excel(\"USDCHF.xlsx\").sort_values(by=\"Date\", ascending=True)\n",
    "    pair_data[\"Date\"] = pair_data[\"Date\"].map(lambda x: x.strftime(\"%Y-%m-%d\"))\n",
    "    return pair_data.loc[(pair_data[\"Date\"] >= start_date) & (\n",
    "        pair_data[\"Date\"] <= end_date)][[\"Date\", \"Close\"]]\n"
   ]
  },
  {
   "cell_type": "markdown",
   "metadata": {},
   "source": [
    "Calculate log-returns of asset and define a mapping to be used in the dataframe manipulation."
   ]
  },
  {
   "cell_type": "code",
   "execution_count": 37,
   "metadata": {},
   "outputs": [],
   "source": [
    "def log_returns(stock_prices):\n",
    "    mapping = {stock_prices[0] : 0}\n",
    "    for i in range(1, len(stock_prices)):\n",
    "        mapping[stock_prices[i]] = math.log(stock_prices[i] / stock_prices[i-1])\n",
    "    return mapping"
   ]
  },
  {
   "cell_type": "markdown",
   "metadata": {},
   "source": [
    "Obtain all the relevant data for all the 5 recessions and ensure dates match (CHF/USD had more data points than SPX which needed to be removed)."
   ]
  },
  {
   "cell_type": "code",
   "execution_count": 63,
   "metadata": {},
   "outputs": [],
   "source": [
    "recession_dates = [[\"1981-07-01\", \"1982-11-01\"],\n",
    "                   [\"1990-07-01\", \"1991-03-01\"],\n",
    "                   [\"2001-03-01\", \"2001-11-01\"],\n",
    "                   [\"2007-12-01\", \"2009-06-01\"],\n",
    "                   [\"2020-02-01\", \"2022-11-21\"]]\n",
    "\n",
    "spx_yf_ticker = \"^GSPC\"\n",
    "spx_historical_data = {}\n",
    "fx_pair_historical_data = {}\n",
    "n_recession = 0\n",
    "\n",
    "for recession_date in recession_dates:\n",
    "    n_recession += 1\n",
    "    start_date = recession_date[0]\n",
    "    end_date = recession_date[1]\n",
    "    \n",
    "    spx_data = get_historical_data(spx_yf_ticker, start_date, end_date)\n",
    "    pair_data = load_USDCHF_historical_data(start_date, end_date)\n",
    "\n",
    "    # replace stock prices with log returns \n",
    "    spx_data[\"Close\"] = spx_data[\"Close\"].map(\n",
    "        log_returns(list(spx_data[\"Close\"])))\n",
    "    spx_data.index = range(len(spx_data.index))\n",
    "\n",
    "    \n",
    "    # clean fx pair data\n",
    "    pair_data = pair_data[pair_data[\"Date\"].isin(spx_data[\"Date\"])]\n",
    "    # similarly for pair rates, replace with log returns\n",
    "    pair_data[\"Close\"] = pair_data[\"Close\"].map(\n",
    "        log_returns(list(pair_data[\"Close\"])))\n",
    "    pair_data.index = range(len(pair_data.index))\n",
    "\n",
    "    spx_historical_data[f\"recession {n_recession}\"] = spx_data\n",
    "    fx_pair_historical_data[f\"recession {n_recession}\"] = pair_data"
   ]
  },
  {
   "cell_type": "markdown",
   "metadata": {},
   "source": []
  },
  {
   "cell_type": "code",
   "execution_count": 64,
   "metadata": {},
   "outputs": [
    {
     "name": "stdout",
     "output_type": "stream",
     "text": [
      "           Date     Close\n",
      "0    1981-07-01  0.000000\n",
      "1    1981-07-02 -0.008746\n",
      "2    1981-07-06 -0.009922\n",
      "3    1981-07-07  0.006807\n",
      "4    1981-07-08  0.000624\n",
      "..          ...       ...\n",
      "334  1982-10-26  0.008663\n",
      "335  1982-10-27  0.006005\n",
      "336  1982-10-28 -0.012645\n",
      "337  1982-10-29  0.000973\n",
      "338  1982-11-01  0.013002\n",
      "\n",
      "[339 rows x 2 columns]\n",
      "           Date     Close\n",
      "0    1981-07-01  0.000000\n",
      "1    1981-07-02 -0.000723\n",
      "2    1981-07-06  0.008404\n",
      "3    1981-07-07  0.000239\n",
      "4    1981-07-08  0.002367\n",
      "..          ...       ...\n",
      "334  1982-10-26 -0.001366\n",
      "335  1982-10-27 -0.001368\n",
      "336  1982-10-28  0.009083\n",
      "337  1982-10-29 -0.002036\n",
      "338  1982-11-01 -0.007503\n",
      "\n",
      "[339 rows x 2 columns]\n"
     ]
    }
   ],
   "source": [
    "print(spx_historical_data[\"recession 1\"])\n",
    "print(fx_pair_historical_data[\"recession 1\"])\n"
   ]
  }
 ],
 "metadata": {
  "kernelspec": {
   "display_name": "Python 3.9.10 64-bit",
   "language": "python",
   "name": "python3"
  },
  "language_info": {
   "codemirror_mode": {
    "name": "ipython",
    "version": 3
   },
   "file_extension": ".py",
   "mimetype": "text/x-python",
   "name": "python",
   "nbconvert_exporter": "python",
   "pygments_lexer": "ipython3",
   "version": "3.9.10"
  },
  "orig_nbformat": 4,
  "vscode": {
   "interpreter": {
    "hash": "aee8b7b246df8f9039afb4144a1f6fd8d2ca17a180786b69acc140d282b71a49"
   }
  }
 },
 "nbformat": 4,
 "nbformat_minor": 2
}
