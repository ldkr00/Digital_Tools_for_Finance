{
 "cells": [
  {
   "cell_type": "markdown",
   "id": "1719fbbf",
   "metadata": {},
   "source": [
    "# Digital Tools for Finance - Final Project"
   ]
  },
  {
   "cell_type": "markdown",
   "id": "15575484",
   "metadata": {},
   "source": [
    "## Group Members\n",
    "\n",
    " - Lukas Dekker, 18-737-692\n",
    " - Denis Hallulli, 21-739-284\n",
    " - Dominic Krummenacher, 21-713-284"
   ]
  },
  {
   "cell_type": "markdown",
   "id": "ea47a93a",
   "metadata": {},
   "source": [
    "## Topic\n",
    "\n",
    "Is the Swiss franc a safe haven for US investors during recessions?"
   ]
  },
  {
   "cell_type": "markdown",
   "id": "99a83135",
   "metadata": {},
   "source": [
    "## Approach\n",
    "\n",
    "We focus on the recessions of the last 40 years namely July 1981- November 1982, July 1990 - March 1991, March 2001 - November 2001, December 2007 - June 2009 and February 2020 - today. Using the S&P 500 returns over these periods and the exchange rate CHF/USD, we run an OLS regression to investigate wether there is a significant correlation. To have enough data we use daily or weekly returns which we get from Yahoo Finance. If our estimate from the regression is significantly negative then we have some evidence that investing in the Swiss franc during recessions might be a good choice for US investors."
   ]
  },
  {
   "cell_type": "markdown",
   "id": "1afdec39",
   "metadata": {},
   "source": [
    "## Imports"
   ]
  },
  {
   "cell_type": "code",
   "execution_count": 1,
   "id": "c6a16dd0",
   "metadata": {},
   "outputs": [
    {
     "name": "stderr",
     "output_type": "stream",
     "text": [
      "/Library/Frameworks/Python.framework/Versions/3.8/lib/python3.8/site-packages/requests/__init__.py:102: RequestsDependencyWarning: urllib3 (1.26.9) or chardet (5.0.0)/charset_normalizer (2.0.12) doesn't match a supported version!\n",
      "  warnings.warn(\"urllib3 ({}) or chardet ({})/charset_normalizer ({}) doesn't match a supported \"\n"
     ]
    }
   ],
   "source": [
    "import requests"
   ]
  },
  {
   "cell_type": "code",
   "execution_count": 11,
   "id": "f3b485f2",
   "metadata": {},
   "outputs": [],
   "source": [
    "# gets data from FRED API\n",
    "def get_SPX_data(start_date, end_date):\n",
    "    root = 'https://api.stlouisfed.org'\n",
    "    endpoint = '/fred/series/observations'\n",
    "    url = f'{root}{endpoint}?api_key=8183c27e743a8418fbf78d0636a0a0e8&observation_start={start_date}&&observation_end={end_date}&frequency=d&series_id=SP500'\n",
    "    data = requests.get(url)\n",
    "    assert data.status_code == 200\n",
    "    return data\n",
    "\n",
    "# need to find series_id for exchange rate\n",
    "def get_CHFUSD_data(start_date, end_date):\n",
    "    root = 'https://api.stlouisfed.org'\n",
    "    endpoint = '/fred/series/observations'\n",
    "    url = f'{root}{endpoint}?api_key=8183c27e743a8418fbf78d0636a0a0e8&observation_start={start_date}&observation_end={end_date}&frequency=d&series_id=...'\n",
    "    data = requests.get(url)\n",
    "    assert data.status_code == 200\n",
    "    return data"
   ]
  },
  {
   "cell_type": "markdown",
   "id": "54f820e5",
   "metadata": {},
   "source": [
    "## Load the data"
   ]
  },
  {
   "cell_type": "code",
   "execution_count": 13,
   "id": "3ea536d2",
   "metadata": {},
   "outputs": [],
   "source": [
    "# load the SPX data for the 5 recession periods (stored as XML file)\n",
    "first_recession_SPX = get_SPX_data('1981-07-01', '1982-11-01')\n",
    "second_recession_SPX = get_SPX_data('1990-07-01', '1991-03-01')\n",
    "third_recession_SPX = get_SPX_data('2001-03-01', '2001-11-01')\n",
    "fourth_recession_SPX = get_SPX_data('2007-12-01', '2009-06-01')\n",
    "fifth_recession_SPX = get_SPX_data('2020-02-01', '2022-11-21')"
   ]
  },
  {
   "cell_type": "code",
   "execution_count": null,
   "id": "854759c9",
   "metadata": {},
   "outputs": [],
   "source": []
  }
 ],
 "metadata": {
  "kernelspec": {
   "display_name": "Python 3 (ipykernel)",
   "language": "python",
   "name": "python3"
  },
  "language_info": {
   "codemirror_mode": {
    "name": "ipython",
    "version": 3
   },
   "file_extension": ".py",
   "mimetype": "text/x-python",
   "name": "python",
   "nbconvert_exporter": "python",
   "pygments_lexer": "ipython3",
   "version": "3.8.5"
  }
 },
 "nbformat": 4,
 "nbformat_minor": 5
}
